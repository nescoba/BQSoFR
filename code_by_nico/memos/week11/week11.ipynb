{
 "cells": [
  {
   "attachments": {},
   "cell_type": "markdown",
   "metadata": {},
   "source": [
    "# Week 11: March 27th to March 31st\n",
    "**Nicolas Escobar**\n",
    "\n",
    "## SMIMIC ME\n",
    "\n",
    "The main focus of this week's work was the model in Dr. Zoh's draft. As reported in previous weeks, we have developed code to implement the model and to perform mediation analysis on it. Previous runs have shown that the code runs adequately, but the chains didn't have time to mix appropriately. \n",
    "\n",
    "This week we worked on making the chains run for considerably longer periods. It is not practical to run this longer chains on our local machines. So we wrote scripts to make them run in Big Red 200. A challenge we encountered was that this supercomputer does not have BRMS installed. So, we had to make sure that the C++ toolchain was set up and install the necessary dependencies. \n",
    "\n",
    "Once this was done, we were able to run the scripts. They ran for around 12 hours. Unfortunately, the results were not the ones we expected. For several parameters, the ESS are still in the low double digits. Some of the estimates are closer to the true values, but others are unsatisfactory. We might need to run the chains for even longer, or figure out how to optimize the training. \n",
    "\n",
    "## GAL distribution with heteroskedasticity\n",
    "\n",
    "On this area, we did a couple of literature searches. \n",
    "\n",
    "The first one was on SNR estimation in scalar-on-function regression. We found mixed results. The literature seems to disagree, particularly on the definitions of signal and noise. In the simplest case, the book by Ramsey and Silverman contains a closed form formula. For more realistic scenarios, methods are ad hoc. We found some examples in the signal and image processing literature, but they vary considerably. \n",
    "\n",
    "The second one has to do with priors. Specifically, we need to impose multivariate priors on some of the parameters of the models we are considering. Unfortunately, BRMS seems uncapable of doing that. It is possible to do it direcly on Stan, but the corresponding functionality does not exist in BRMS. \n",
    "\n",
    "## R Package\n",
    "\n",
    "Dr. Zoh shared with me a considerable ammount of code that implements simulations of functional data and some functionality related to the GAL distribution. Since this code should be included in a future R package, we split it up into multiple files and organized it according to functionality. \n"
   ]
  }
 ],
 "metadata": {
  "kernelspec": {
   "display_name": "base",
   "language": "python",
   "name": "python3"
  },
  "language_info": {
   "name": "python",
   "version": "3.9.13"
  },
  "orig_nbformat": 4
 },
 "nbformat": 4,
 "nbformat_minor": 2
}
